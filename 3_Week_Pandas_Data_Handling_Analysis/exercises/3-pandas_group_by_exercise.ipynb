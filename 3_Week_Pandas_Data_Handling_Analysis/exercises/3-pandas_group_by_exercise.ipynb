{
 "cells": [
  {
   "cell_type": "markdown",
   "id": "eeaf906a",
   "metadata": {},
   "source": [
    "## <font color=\"maroon\"><h4 align=\"center\">Pandas Group By: Exercise</font>"
   ]
  },
  {
   "cell_type": "code",
   "execution_count": 1,
   "id": "4b568c3a",
   "metadata": {},
   "outputs": [],
   "source": [
    "import pandas as pd"
   ]
  },
  {
   "cell_type": "markdown",
   "id": "036f22e5",
   "metadata": {},
   "source": [
    "### <font color=\"purple\">**Question1**</font>\n",
    "- Read the csv file 'movies_data.csv' and store it in a variable 'df'"
   ]
  },
  {
   "cell_type": "code",
   "execution_count": null,
   "id": "3c0b5f5b-7b21-455c-b69f-9a392ad38faf",
   "metadata": {},
   "outputs": [],
   "source": []
  },
  {
   "cell_type": "markdown",
   "id": "02b7385f",
   "metadata": {},
   "source": [
    "### <font color=\"purple\">**Question2**</font>\n",
    "- Group the dataframe by 'industry' and store it in a variable 'g'\n",
    "- Get the size of each grouped category\n",
    "- Get all the data related to \"Bollywood\""
   ]
  },
  {
   "cell_type": "code",
   "execution_count": null,
   "id": "1cf5fd7a-6b7c-43bf-a157-eeeeb7411f6f",
   "metadata": {},
   "outputs": [],
   "source": []
  },
  {
   "cell_type": "markdown",
   "id": "ae49032a",
   "metadata": {},
   "source": [
    "### <font color=\"purple\">**Question3: Group data using custom function:**</font>\n",
    "Here, the requirement is to create four groups based on **\"imdb_rating\"**\n",
    "\n",
    "- 1 <= imdb_rating <= 3.9 ---> 'Poor'\n",
    "- 4 <= imdb_rating <= 7.9 ---> 'Average'\n",
    "- 8 <= imdb_rating <= 10 --->  'Good'\n",
    "- If none of above satisfy, then return 'others'"
   ]
  },
  {
   "cell_type": "code",
   "execution_count": null,
   "id": "10a8b929-7ad3-4bce-a61f-479d7984fb8f",
   "metadata": {},
   "outputs": [],
   "source": [
    "    "
   ]
  }
 ],
 "metadata": {
  "kernelspec": {
   "display_name": "Python 3 (ipykernel)",
   "language": "python",
   "name": "python3"
  },
  "language_info": {
   "codemirror_mode": {
    "name": "ipython",
    "version": 3
   },
   "file_extension": ".py",
   "mimetype": "text/x-python",
   "name": "python",
   "nbconvert_exporter": "python",
   "pygments_lexer": "ipython3",
   "version": "3.8.10"
  }
 },
 "nbformat": 4,
 "nbformat_minor": 5
}
