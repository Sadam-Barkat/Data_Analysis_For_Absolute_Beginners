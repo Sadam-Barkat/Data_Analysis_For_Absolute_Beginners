{
 "cells": [
  {
   "cell_type": "markdown",
   "id": "8b08fa0d-50e4-4c2c-937e-85cbffaf09fd",
   "metadata": {},
   "source": [
    "##### Question 1: Basic Set Creation\n",
    "##### Create a set with the following elements: `1, 2, 3, 4, 5`. Assign it to the variable `my_set`. Print the set."
   ]
  },
  {
   "cell_type": "code",
   "execution_count": 1,
   "id": "7334ec24-f149-49f8-93e5-deb51c62a118",
   "metadata": {},
   "outputs": [],
   "source": [
    "# code here "
   ]
  },
  {
   "cell_type": "markdown",
   "id": "c4367e6d-148f-4210-b64f-2f7cae061269",
   "metadata": {},
   "source": [
    "##### Question 2: Add Elements to a Set\n",
    "##### Add the elements `6` and `7` to the set `my_set`. Print the updated set."
   ]
  },
  {
   "cell_type": "code",
   "execution_count": 2,
   "id": "b4c775ea-3e2f-4126-8fb3-54cc6784eb4f",
   "metadata": {},
   "outputs": [],
   "source": [
    "# code here "
   ]
  },
  {
   "cell_type": "markdown",
   "id": "3723a1a6-716d-4bea-9e79-3a2fc1314a1a",
   "metadata": {},
   "source": [
    "##### Question 3: Remove an Element\n",
    "##### Remove the element `3` from `my_set`. Use the appropriate method and handle the case where the element may not exist. Print the updated set."
   ]
  },
  {
   "cell_type": "code",
   "execution_count": 3,
   "id": "047f9309-f18e-418f-8846-b8abc86057ae",
   "metadata": {},
   "outputs": [],
   "source": [
    "# code here"
   ]
  },
  {
   "cell_type": "markdown",
   "id": "2b40b58e-5121-47ce-9789-3b6ea13d62d2",
   "metadata": {},
   "source": [
    "##### Question 4: Set Union\n",
    "##### Create another set `other_set` with the elements `4, 5, 6, 7, 8`. Find the union of `my_set` and `other_set`. Print the result."
   ]
  },
  {
   "cell_type": "code",
   "execution_count": 4,
   "id": "ca981097-8948-4155-95a4-8d8b0aaa676a",
   "metadata": {},
   "outputs": [],
   "source": [
    "# code here"
   ]
  },
  {
   "cell_type": "markdown",
   "id": "9b5a2263-4b79-485e-b6b4-27709d4819e7",
   "metadata": {},
   "source": [
    "##### Question 5: Set Intersection\n",
    "##### Find the intersection of `my_set` and `other_set`. Print the result."
   ]
  },
  {
   "cell_type": "code",
   "execution_count": 5,
   "id": "c1b43fb0-b5db-418b-ad6b-aa3474edf240",
   "metadata": {},
   "outputs": [],
   "source": [
    "# code here"
   ]
  },
  {
   "cell_type": "markdown",
   "id": "328930c6-fb82-4137-ae65-94f7a0b4e8c5",
   "metadata": {},
   "source": [
    "##### Question 6: Set Difference\n",
    "##### Find the difference between `my_set` and `other_set` (elements in `my_set` but not in `other_set`). Print the result."
   ]
  },
  {
   "cell_type": "code",
   "execution_count": 6,
   "id": "df75cac5-0e1a-4896-aea8-4fca0ae558f3",
   "metadata": {},
   "outputs": [],
   "source": [
    "# code here"
   ]
  },
  {
   "cell_type": "markdown",
   "id": "1e1c5f39-a947-4e0b-a6ed-052fda50aeea",
   "metadata": {},
   "source": [
    "##### Question 7: Symmetric Difference\n",
    "##### Find the symmetric difference between `my_set` and `other_set`. Print the result."
   ]
  },
  {
   "cell_type": "code",
   "execution_count": 7,
   "id": "f075f638-79a9-4ec1-aba4-f11e66824534",
   "metadata": {},
   "outputs": [],
   "source": [
    "# code here"
   ]
  },
  {
   "cell_type": "markdown",
   "id": "1cc14a5c-64ba-405d-bf29-d0004ee97a5c",
   "metadata": {},
   "source": [
    "##### Question 8: Check Subset and Superset\n",
    "##### Create a new set `small_set` with elements `4, 5`. Check if `small_set` is a subset of `my_set`. Also, check if `my_set` is a superset of `small_set`. Print the results."
   ]
  },
  {
   "cell_type": "code",
   "execution_count": 8,
   "id": "3bfa37d9-f3fe-4952-a6ba-43a9058ac5ec",
   "metadata": {},
   "outputs": [],
   "source": [
    "# code here"
   ]
  },
  {
   "cell_type": "markdown",
   "id": "8e4085a4-3297-45c0-9c9b-45e9d701efde",
   "metadata": {},
   "source": [
    "##### Question 9: Clear a Set\n",
    "##### Clear all elements from `my_set`. Print the result."
   ]
  },
  {
   "cell_type": "code",
   "execution_count": 9,
   "id": "58d99891-087e-4bb3-871b-5c33141a66aa",
   "metadata": {},
   "outputs": [],
   "source": [
    "# code here "
   ]
  },
  {
   "cell_type": "markdown",
   "id": "94282f5b-1083-4a5c-b62c-8bc325652f15",
   "metadata": {},
   "source": [
    "##### Question 10: Set Comprehension\n",
    "##### Create a set comprehension that generates a set of squares for numbers from 1 to 10. Assign it to the variable `squares_set` and print it."
   ]
  },
  {
   "cell_type": "code",
   "execution_count": 10,
   "id": "a7a56d63-58d4-48c2-a97e-c278b4d949bd",
   "metadata": {},
   "outputs": [],
   "source": [
    "# code here "
   ]
  },
  {
   "cell_type": "code",
   "execution_count": null,
   "id": "5cf58ae1-c079-4c5d-ab3f-cb88d913ac98",
   "metadata": {},
   "outputs": [],
   "source": []
  }
 ],
 "metadata": {
  "kernelspec": {
   "display_name": "Python 3 (ipykernel)",
   "language": "python",
   "name": "python3"
  },
  "language_info": {
   "codemirror_mode": {
    "name": "ipython",
    "version": 3
   },
   "file_extension": ".py",
   "mimetype": "text/x-python",
   "name": "python",
   "nbconvert_exporter": "python",
   "pygments_lexer": "ipython3",
   "version": "3.8.10"
  }
 },
 "nbformat": 4,
 "nbformat_minor": 5
}
