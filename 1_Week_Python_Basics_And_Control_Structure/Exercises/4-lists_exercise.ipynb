{
 "cells": [
  {
   "cell_type": "markdown",
   "metadata": {
    "id": "l4ZebagWpr-X"
   },
   "source": [
    "# 4 Lists\n"
   ]
  },
  {
   "cell_type": "markdown",
   "metadata": {
    "id": "NDm5nrA0p1GL"
   },
   "source": [
    "1. You are a Marvel fan and created a list of superheroes.\n",
    "\n",
    "```py\n",
    "avengers  = [‘Iron Man’, ‘Captain America’, ‘Black Widow’, ‘Hulk’, ‘Thor’, ‘Hawkeye’]\n",
    "```\n",
    "\n",
    "Using this list, do the following:\n",
    "\n",
    "i. Calculate how many members in the Avengers team?\\\n",
    "ii. Iron Man made Spider-Man a new member of the Avengers, add him to your list.\\\n",
    "iii. Captain America is the leader of the Avengers, you need to add him before the Iron Man, so remove him from the list and add before the Iron Man.\\\n",
    "iv. You don’t like Thor and Hulk together because they got angry easily and fight with each other. So you have to separate them with each other. To separate them, either move “Black Widow” or “Hawkeye” in between them.\\\n",
    "v. After Avengers: End Game the original six avengers are retired, now you need to remove them from your list and add new superheroes like Doctor Strange, Vision, Wanda, Kate Bishop and Ant-Man.\\\n",
    "vi. As “Captain America” is also retired and now currently, no one is leader, so sort the list in alphabetical order. Whoever will come at 0th index will become the Leader. (BONUS: can you guess who will become the leader)\n",
    "\n"
   ]
  },
  {
   "cell_type": "code",
   "execution_count": null,
   "metadata": {
    "colab": {
     "base_uri": "https://localhost:8080/"
    },
    "id": "gI9sGcfWqz8P",
    "outputId": "789f4eba-2201-459d-e539-56b5c8ad30ce"
   },
   "outputs": [],
   "source": []
  },
  {
   "cell_type": "markdown",
   "metadata": {
    "id": "o4-cwl7bq3WR"
   },
   "source": [
    "### Calculating the total members\n",
    "\n",
    "we can use the len() to calculate the total items in the list"
   ]
  },
  {
   "cell_type": "code",
   "execution_count": null,
   "metadata": {
    "colab": {
     "base_uri": "https://localhost:8080/"
    },
    "id": "atmsJ3adq1To",
    "outputId": "39cde86a-670f-435f-85ca-eac091bfbc76"
   },
   "outputs": [],
   "source": []
  },
  {
   "cell_type": "markdown",
   "metadata": {
    "id": "Uvv10gM4rMvR"
   },
   "source": [
    "### Adding spiderman to the team\n",
    "\n",
    "We can use .append() to add item to the list"
   ]
  },
  {
   "cell_type": "code",
   "execution_count": null,
   "metadata": {
    "id": "9zpJWd13rFYP"
   },
   "outputs": [],
   "source": []
  },
  {
   "cell_type": "markdown",
   "metadata": {
    "id": "67XatIzMrkk1"
   },
   "source": [
    "### Moving Captain America to the first position\n",
    "\n",
    "First remove Captain from 1st index: \n",
    "We can use .pop() to remove from the given index"
   ]
  },
  {
   "cell_type": "markdown",
   "metadata": {
    "id": "uDQsm2PssVgA"
   },
   "source": [
    "Because we need to insert him later so store this in a variable called `captain_america`"
   ]
  },
  {
   "cell_type": "code",
   "execution_count": null,
   "metadata": {
    "id": "YZfCm6s3reL_"
   },
   "outputs": [],
   "source": []
  },
  {
   "cell_type": "markdown",
   "metadata": {
    "id": "OkDPPQOgsgm6"
   },
   "source": [
    "Now Add him to the 0th index using .insert()"
   ]
  },
  {
   "cell_type": "code",
   "execution_count": null,
   "metadata": {
    "id": "hEKD3s-Pr7lO"
   },
   "outputs": [],
   "source": []
  },
  {
   "cell_type": "markdown",
   "metadata": {
    "id": "H48z6T-Ysr3D"
   },
   "source": [
    "### Separating Thor and Hulk\n",
    "\n",
    "To seprate them we can move Black Window to in between them"
   ]
  },
  {
   "cell_type": "markdown",
   "metadata": {
    "id": "-PPZvyyfs7T7"
   },
   "source": [
    "Removing Black Widow"
   ]
  },
  {
   "cell_type": "code",
   "execution_count": null,
   "metadata": {
    "colab": {
     "base_uri": "https://localhost:8080/"
    },
    "id": "Y-xC73UqsDZt",
    "outputId": "a6d987b9-a259-451c-830b-b9b6b901fe86"
   },
   "outputs": [],
   "source": []
  },
  {
   "cell_type": "markdown",
   "metadata": {
    "id": "x0cXKtfStH8m"
   },
   "source": [
    "Adding Black widow to the new position which is 3"
   ]
  },
  {
   "cell_type": "code",
   "execution_count": null,
   "metadata": {
    "colab": {
     "base_uri": "https://localhost:8080/"
    },
    "id": "Ri3QnKMGtEx1",
    "outputId": "a7f7598f-ff3a-47e2-cedb-1bf1b79fc8e2"
   },
   "outputs": [],
   "source": []
  },
  {
   "cell_type": "markdown",
   "metadata": {
    "id": "xmayjaOltrLb"
   },
   "source": [
    "NOTE: You can also Separate thm using Hawkeye\n",
    "\n",
    "Can you do this for me? **Use the below cell for this**"
   ]
  },
  {
   "cell_type": "code",
   "execution_count": 2,
   "metadata": {
    "id": "oNXUyiVrtZMC"
   },
   "outputs": [],
   "source": [
    "# TODO"
   ]
  },
  {
   "cell_type": "markdown",
   "metadata": {
    "id": "hVBv7Zv1uKiA"
   },
   "source": [
    "### Replacing the team with new heros\n",
    "\n",
    "First remove the retired heroes"
   ]
  },
  {
   "cell_type": "code",
   "execution_count": null,
   "metadata": {
    "colab": {
     "base_uri": "https://localhost:8080/"
    },
    "id": "CX7xZwvDuAog",
    "outputId": "4a446909-4828-467a-f8fc-61315d09d6fd"
   },
   "outputs": [],
   "source": []
  },
  {
   "cell_type": "markdown",
   "metadata": {
    "id": "mdcYsiYVuwH7"
   },
   "source": [
    "Only spider man left in the team\n",
    "\n",
    "Let's add new superheroes to the team\n",
    "\n",
    "Doctor Strange, Vision, Wanda, Kate Bishop and Ant-Man"
   ]
  },
  {
   "cell_type": "markdown",
   "metadata": {
    "id": "mBW0XTCEvOT8"
   },
   "source": [
    "You can append them one by one using .append()\n",
    "\n",
    "OR\n",
    "\n",
    "You can be smart and use your friendly neighborhood function help() "
   ]
  },
  {
   "cell_type": "code",
   "execution_count": null,
   "metadata": {
    "colab": {
     "base_uri": "https://localhost:8080/"
    },
    "id": "Grc6tH-Vuusc",
    "outputId": "a8cfb40a-7ddc-4b67-91bc-8a7f23f7e247"
   },
   "outputs": [
    {
     "name": "stdout",
     "output_type": "stream",
     "text": [
      "Help on list object:\n",
      "\n",
      "class list(object)\n",
      " |  list(iterable=(), /)\n",
      " |  \n",
      " |  Built-in mutable sequence.\n",
      " |  \n",
      " |  If no argument is given, the constructor creates a new empty list.\n",
      " |  The argument must be an iterable if specified.\n",
      " |  \n",
      " |  Methods defined here:\n",
      " |  \n",
      " |  __add__(self, value, /)\n",
      " |      Return self+value.\n",
      " |  \n",
      " |  __contains__(self, key, /)\n",
      " |      Return key in self.\n",
      " |  \n",
      " |  __delitem__(self, key, /)\n",
      " |      Delete self[key].\n",
      " |  \n",
      " |  __eq__(self, value, /)\n",
      " |      Return self==value.\n",
      " |  \n",
      " |  __ge__(self, value, /)\n",
      " |      Return self>=value.\n",
      " |  \n",
      " |  __getattribute__(self, name, /)\n",
      " |      Return getattr(self, name).\n",
      " |  \n",
      " |  __getitem__(...)\n",
      " |      x.__getitem__(y) <==> x[y]\n",
      " |  \n",
      " |  __gt__(self, value, /)\n",
      " |      Return self>value.\n",
      " |  \n",
      " |  __iadd__(self, value, /)\n",
      " |      Implement self+=value.\n",
      " |  \n",
      " |  __imul__(self, value, /)\n",
      " |      Implement self*=value.\n",
      " |  \n",
      " |  __init__(self, /, *args, **kwargs)\n",
      " |      Initialize self.  See help(type(self)) for accurate signature.\n",
      " |  \n",
      " |  __iter__(self, /)\n",
      " |      Implement iter(self).\n",
      " |  \n",
      " |  __le__(self, value, /)\n",
      " |      Return self<=value.\n",
      " |  \n",
      " |  __len__(self, /)\n",
      " |      Return len(self).\n",
      " |  \n",
      " |  __lt__(self, value, /)\n",
      " |      Return self<value.\n",
      " |  \n",
      " |  __mul__(self, value, /)\n",
      " |      Return self*value.\n",
      " |  \n",
      " |  __ne__(self, value, /)\n",
      " |      Return self!=value.\n",
      " |  \n",
      " |  __repr__(self, /)\n",
      " |      Return repr(self).\n",
      " |  \n",
      " |  __reversed__(self, /)\n",
      " |      Return a reverse iterator over the list.\n",
      " |  \n",
      " |  __rmul__(self, value, /)\n",
      " |      Return value*self.\n",
      " |  \n",
      " |  __setitem__(self, key, value, /)\n",
      " |      Set self[key] to value.\n",
      " |  \n",
      " |  __sizeof__(self, /)\n",
      " |      Return the size of the list in memory, in bytes.\n",
      " |  \n",
      " |  append(self, object, /)\n",
      " |      Append object to the end of the list.\n",
      " |  \n",
      " |  clear(self, /)\n",
      " |      Remove all items from list.\n",
      " |  \n",
      " |  copy(self, /)\n",
      " |      Return a shallow copy of the list.\n",
      " |  \n",
      " |  count(self, value, /)\n",
      " |      Return number of occurrences of value.\n",
      " |  \n",
      " |  extend(self, iterable, /)\n",
      " |      Extend list by appending elements from the iterable.\n",
      " |  \n",
      " |  index(self, value, start=0, stop=9223372036854775807, /)\n",
      " |      Return first index of value.\n",
      " |      \n",
      " |      Raises ValueError if the value is not present.\n",
      " |  \n",
      " |  insert(self, index, object, /)\n",
      " |      Insert object before index.\n",
      " |  \n",
      " |  pop(self, index=-1, /)\n",
      " |      Remove and return item at index (default last).\n",
      " |      \n",
      " |      Raises IndexError if list is empty or index is out of range.\n",
      " |  \n",
      " |  remove(self, value, /)\n",
      " |      Remove first occurrence of value.\n",
      " |      \n",
      " |      Raises ValueError if the value is not present.\n",
      " |  \n",
      " |  reverse(self, /)\n",
      " |      Reverse *IN PLACE*.\n",
      " |  \n",
      " |  sort(self, /, *, key=None, reverse=False)\n",
      " |      Stable sort *IN PLACE*.\n",
      " |  \n",
      " |  ----------------------------------------------------------------------\n",
      " |  Static methods defined here:\n",
      " |  \n",
      " |  __new__(*args, **kwargs) from builtins.type\n",
      " |      Create and return a new object.  See help(type) for accurate signature.\n",
      " |  \n",
      " |  ----------------------------------------------------------------------\n",
      " |  Data and other attributes defined here:\n",
      " |  \n",
      " |  __hash__ = None\n",
      "\n"
     ]
    }
   ],
   "source": [
    "help(avengers)"
   ]
  },
  {
   "cell_type": "markdown",
   "metadata": {
    "id": "-XrnHGiDvmH8"
   },
   "source": [
    "Look at the extend() method we can use this to add the new list of heroes "
   ]
  },
  {
   "cell_type": "code",
   "execution_count": null,
   "metadata": {
    "colab": {
     "base_uri": "https://localhost:8080/"
    },
    "id": "hVCyQcdtvh-_",
    "outputId": "cad43c0e-c807-49b8-8a65-f9669e8e6e84"
   },
   "outputs": [],
   "source": []
  },
  {
   "cell_type": "markdown",
   "metadata": {
    "id": "79nWe92GwP_Z"
   },
   "source": [
    "### Finding new leader of the team\n",
    "\n",
    "sorting the list in alphabetical order"
   ]
  },
  {
   "cell_type": "code",
   "execution_count": null,
   "metadata": {
    "id": "uMEsA22NwG2u"
   },
   "outputs": [],
   "source": []
  },
  {
   "cell_type": "markdown",
   "metadata": {
    "id": "rVqPPP6Zwd-K"
   },
   "source": [
    "As 'Ant Man' comes at the 0th index He is the new Leader of the Avengers. "
   ]
  },
  {
   "cell_type": "code",
   "execution_count": null,
   "metadata": {
    "id": "xwv4vx0kwbiu"
   },
   "outputs": [],
   "source": []
  },
  {
   "cell_type": "markdown",
   "metadata": {
    "id": "bjzMR1aBwqMV"
   },
   "source": [
    "Thank You,\n",
    "\n",
    "Happy Coding!"
   ]
  },
  {
   "cell_type": "code",
   "execution_count": null,
   "metadata": {
    "id": "1tKUG2_UwtTp"
   },
   "outputs": [],
   "source": []
  }
 ],
 "metadata": {
  "colab": {
   "collapsed_sections": [],
   "name": "4_lists.ipynb",
   "provenance": []
  },
  "kernelspec": {
   "display_name": "Python 3 (ipykernel)",
   "language": "python",
   "name": "python3"
  },
  "language_info": {
   "codemirror_mode": {
    "name": "ipython",
    "version": 3
   },
   "file_extension": ".py",
   "mimetype": "text/x-python",
   "name": "python",
   "nbconvert_exporter": "python",
   "pygments_lexer": "ipython3",
   "version": "3.8.10"
  }
 },
 "nbformat": 4,
 "nbformat_minor": 4
}
