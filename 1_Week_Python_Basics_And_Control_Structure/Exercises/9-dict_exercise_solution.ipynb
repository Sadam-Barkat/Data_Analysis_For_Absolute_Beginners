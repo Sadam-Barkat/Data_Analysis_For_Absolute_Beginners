{
 "cells": [
  {
   "cell_type": "markdown",
   "id": "6428111d-c8e5-464f-a835-09e4011d0421",
   "metadata": {},
   "source": [
    "##### Question 1\n",
    "##### You are given a dictionary representing a product with the keys: \"name\", \"category\", \"price\", and \"stock\".\n",
    "##### Assign the values \"Laptop\", \"Electronics\", 750, and 25, respectively. Print the dictionary."
   ]
  },
  {
   "cell_type": "code",
   "execution_count": 1,
   "id": "a9dfae8a-35e5-457f-bb4d-3f1516934225",
   "metadata": {},
   "outputs": [
    {
     "name": "stdout",
     "output_type": "stream",
     "text": [
      "Question 1 Output: {'name': 'Laptop', 'category': 'Electronics', 'price': 750, 'stock': 25}\n"
     ]
    }
   ],
   "source": [
    "product = {\"name\": \"Laptop\", \"category\": \"Electronics\", \"price\": 750, \"stock\": 25}\n",
    "print(\"Question 1 Output:\", product)"
   ]
  },
  {
   "cell_type": "markdown",
   "id": "8f1f2cec-5ba0-4642-8760-f0865fe74a79",
   "metadata": {},
   "source": [
    "##### Question 2\n",
    "##### The price of the product has increased by 50. Update the value of the key \"price\" in the dictionary and print the updated dictionary."
   ]
  },
  {
   "cell_type": "code",
   "execution_count": 2,
   "id": "0e063b48-02b2-49b4-b0fc-f79b8d220010",
   "metadata": {},
   "outputs": [
    {
     "name": "stdout",
     "output_type": "stream",
     "text": [
      "Question 2 Output: {'name': 'Laptop', 'category': 'Electronics', 'price': 800, 'stock': 25}\n"
     ]
    }
   ],
   "source": [
    "product[\"price\"] += 50\n",
    "print(\"Question 2 Output:\", product)"
   ]
  },
  {
   "cell_type": "markdown",
   "id": "b5b14f1c-17e3-4201-8679-ca8a499f3e00",
   "metadata": {},
   "source": [
    "##### Question 3\n",
    "##### A new key \"discount\" with a value of 10 (percentage) needs to be added to the dictionary. Update the dictionary and print it."
   ]
  },
  {
   "cell_type": "code",
   "execution_count": 3,
   "id": "32436646-fc98-4280-beeb-3a6ad6e0b812",
   "metadata": {},
   "outputs": [
    {
     "name": "stdout",
     "output_type": "stream",
     "text": [
      "Question 3 Output: {'name': 'Laptop', 'category': 'Electronics', 'price': 800, 'stock': 25, 'discount': 10}\n"
     ]
    }
   ],
   "source": [
    "product[\"discount\"] = 10\n",
    "print(\"Question 3 Output:\", product)"
   ]
  },
  {
   "cell_type": "markdown",
   "id": "4918e23a-562e-40ab-96d2-e6a245c93794",
   "metadata": {},
   "source": [
    "##### Question 4\n",
    "##### Merge the following dictionary {\"brand\": \"Dell\", \"warranty\": \"2 years\"} into the existing dictionary, and print the resulting dictionary."
   ]
  },
  {
   "cell_type": "code",
   "execution_count": 4,
   "id": "bf685616-5e7e-4deb-a146-04c5a3bf4bb5",
   "metadata": {},
   "outputs": [
    {
     "name": "stdout",
     "output_type": "stream",
     "text": [
      "Question 4 Output: {'name': 'Laptop', 'category': 'Electronics', 'price': 800, 'stock': 25, 'discount': 10, 'brand': 'Dell', 'warranty': '2 years'}\n"
     ]
    }
   ],
   "source": [
    "additional_info = {\"brand\": \"Dell\", \"warranty\": \"2 years\"}\n",
    "product.update(additional_info)\n",
    "print(\"Question 4 Output:\", product)"
   ]
  },
  {
   "cell_type": "markdown",
   "id": "27867644-7c8e-48fb-9c1d-57c2180acaac",
   "metadata": {},
   "source": [
    "##### Question 5\n",
    "##### Remove the \"stock\" key from the dictionary as it is no longer relevant, and print the updated dictionary."
   ]
  },
  {
   "cell_type": "code",
   "execution_count": 5,
   "id": "6cf7ac06-80be-4535-bb40-26bf33ca5b09",
   "metadata": {},
   "outputs": [
    {
     "name": "stdout",
     "output_type": "stream",
     "text": [
      "Question 5 Output: {'name': 'Laptop', 'category': 'Electronics', 'price': 800, 'discount': 10, 'brand': 'Dell', 'warranty': '2 years'}\n"
     ]
    }
   ],
   "source": [
    "product.pop(\"stock\")\n",
    "print(\"Question 5 Output:\", product)"
   ]
  },
  {
   "cell_type": "code",
   "execution_count": null,
   "id": "057da2ba-8c16-456d-a1c7-85830f3e295d",
   "metadata": {},
   "outputs": [],
   "source": []
  }
 ],
 "metadata": {
  "kernelspec": {
   "display_name": "Python 3 (ipykernel)",
   "language": "python",
   "name": "python3"
  },
  "language_info": {
   "codemirror_mode": {
    "name": "ipython",
    "version": 3
   },
   "file_extension": ".py",
   "mimetype": "text/x-python",
   "name": "python",
   "nbconvert_exporter": "python",
   "pygments_lexer": "ipython3",
   "version": "3.8.10"
  }
 },
 "nbformat": 4,
 "nbformat_minor": 5
}
