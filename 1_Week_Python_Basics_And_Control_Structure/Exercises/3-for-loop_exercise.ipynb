{
 "cells": [
  {
   "cell_type": "markdown",
   "metadata": {
    "id": "-xmQaMgJH9De"
   },
   "source": [
    "# 7 For Loops\n",
    "\n",
    "Solutions"
   ]
  },
  {
   "cell_type": "markdown",
   "metadata": {
    "id": "SfunnaR8IG-c"
   },
   "source": [
    "1. Write a Python program to print the following pattern.\n",
    "\n",
    "        1 2 3 4 5\n",
    "        1 2 3 4 \n",
    "        1 2 3\n",
    "        1 2\n",
    "        1\n"
   ]
  },
  {
   "cell_type": "markdown",
   "metadata": {
    "id": "BLEhN79pIZa0"
   },
   "source": [
    "To print the pattern first count the rows\n",
    "\n",
    "There are 5 rows store it in a variable."
   ]
  },
  {
   "cell_type": "code",
   "execution_count": null,
   "metadata": {
    "id": "fkjEwb3jH5Jv"
   },
   "outputs": [],
   "source": []
  },
  {
   "cell_type": "markdown",
   "metadata": {
    "id": "f0Y_a82qIlm2"
   },
   "source": [
    "use two for loops to print the pattern\n",
    "\n",
    "One for loop for printing rows\\\n",
    "Another for printing numbers in columns"
   ]
  },
  {
   "cell_type": "code",
   "execution_count": null,
   "metadata": {
    "colab": {
     "base_uri": "https://localhost:8080/"
    },
    "id": "HDvkL79HIjX0",
    "outputId": "31233f1e-8e6c-42fb-8831-19eab8203858"
   },
   "outputs": [],
   "source": []
  },
  {
   "cell_type": "markdown",
   "metadata": {
    "id": "2UU9vxtGK3H5"
   },
   "source": [
    "2. Write a Python program to find the sum of all the numbers except odd numbers between 1 to 20 using a loop. Can you also do this using a while loop?"
   ]
  },
  {
   "cell_type": "code",
   "execution_count": null,
   "metadata": {
    "id": "YQkb__jpJLm1"
   },
   "outputs": [],
   "source": [
    "# using for loop\n"
   ]
  },
  {
   "cell_type": "code",
   "execution_count": 1,
   "metadata": {
    "colab": {
     "base_uri": "https://localhost:8080/"
    },
    "id": "vXVu-J_0LgK9",
    "outputId": "198d5aca-4153-4767-e39c-8a74f332c330"
   },
   "outputs": [],
   "source": [
    "# Method 2\n"
   ]
  },
  {
   "cell_type": "code",
   "execution_count": 2,
   "metadata": {
    "colab": {
     "base_uri": "https://localhost:8080/"
    },
    "id": "5Y7QhgQzLw_H",
    "outputId": "10ffbbf2-40a3-4000-b7ed-b8eb7d757247"
   },
   "outputs": [],
   "source": [
    "# Using While loop\n"
   ]
  },
  {
   "cell_type": "markdown",
   "metadata": {
    "id": "AjtT4pnCMfV8"
   },
   "source": [
    "### 3. After throwing the dice several times, you got this result,\n",
    "\tdice_result  = [5,6,4,2,5,4,4,5,3,3,2,6,1,2,1,1,6,5]\n",
    "\n",
    "Using a for loop find out the followings:\n",
    "\n",
    "+ How many times you got 6s\n",
    "+ How many times you got 1s\n",
    "+ How many times you got 6s two times in row\n"
   ]
  },
  {
   "cell_type": "code",
   "execution_count": null,
   "metadata": {
    "colab": {
     "base_uri": "https://localhost:8080/"
    },
    "id": "y-aeFUPRMIW0",
    "outputId": "22b56f6c-4cdd-47d0-c3d8-f398a1f3185e"
   },
   "outputs": [],
   "source": []
  },
  {
   "cell_type": "markdown",
   "metadata": {
    "id": "yetJ4t2hMrP5"
   },
   "source": [
    "#### Count 6s"
   ]
  },
  {
   "cell_type": "code",
   "execution_count": null,
   "metadata": {
    "colab": {
     "base_uri": "https://localhost:8080/"
    },
    "id": "TvNye-p1Mo79",
    "outputId": "23fba8f7-17d3-45d6-c69a-604675a925b5"
   },
   "outputs": [],
   "source": []
  },
  {
   "cell_type": "markdown",
   "metadata": {
    "id": "qX4ToRtdM7_J"
   },
   "source": [
    "#### Count 1s"
   ]
  },
  {
   "cell_type": "code",
   "execution_count": null,
   "metadata": {
    "colab": {
     "base_uri": "https://localhost:8080/"
    },
    "id": "M56_sUM_M48p",
    "outputId": "d0aa23a3-b239-4a33-dbe3-d4a0f324379e"
   },
   "outputs": [],
   "source": []
  },
  {
   "cell_type": "markdown",
   "metadata": {
    "id": "lIhGWUm5NK2m"
   },
   "source": [
    "#### Counting 2 sixes in a row"
   ]
  },
  {
   "cell_type": "code",
   "execution_count": null,
   "metadata": {
    "colab": {
     "base_uri": "https://localhost:8080/"
    },
    "id": "d6A1ugexNHoH",
    "outputId": "d5c908bb-daf8-4d4b-8d66-f6f53d4a3814"
   },
   "outputs": [],
   "source": []
  }
 ],
 "metadata": {
  "colab": {
   "collapsed_sections": [],
   "name": "7_for_loop.ipynb",
   "provenance": []
  },
  "kernelspec": {
   "display_name": "Python 3 (ipykernel)",
   "language": "python",
   "name": "python3"
  },
  "language_info": {
   "codemirror_mode": {
    "name": "ipython",
    "version": 3
   },
   "file_extension": ".py",
   "mimetype": "text/x-python",
   "name": "python",
   "nbconvert_exporter": "python",
   "pygments_lexer": "ipython3",
   "version": "3.8.10"
  }
 },
 "nbformat": 4,
 "nbformat_minor": 4
}
