{
 "cells": [
  {
   "cell_type": "markdown",
   "id": "d4021647-8a64-4776-bdb7-3c65a1a1e1f2",
   "metadata": {},
   "source": [
    "##### Question 1: Basic Set Creation\n",
    "##### Create a set with the following elements: `1, 2, 3, 4, 5`. Assign it to the variable `my_set`. Print the set."
   ]
  },
  {
   "cell_type": "code",
   "execution_count": 1,
   "id": "83931bab-4160-4704-864c-74885ce6e56d",
   "metadata": {},
   "outputs": [
    {
     "name": "stdout",
     "output_type": "stream",
     "text": [
      "{1, 2, 3, 4, 5}\n"
     ]
    }
   ],
   "source": [
    "my_set = {1, 2, 3, 4, 5}\n",
    "print(my_set)"
   ]
  },
  {
   "cell_type": "markdown",
   "id": "26e43067-dcdf-457a-a941-7ec7e8194e9d",
   "metadata": {},
   "source": [
    "##### Question 2: Add Elements to a Set\n",
    "##### Add the elements `6` and `7` to the set `my_set`. Print the updated set."
   ]
  },
  {
   "cell_type": "code",
   "execution_count": 2,
   "id": "6307e5ea-8775-48f8-98b2-9eae181f6083",
   "metadata": {},
   "outputs": [
    {
     "name": "stdout",
     "output_type": "stream",
     "text": [
      "{1, 2, 3, 4, 5, 6, 7}\n"
     ]
    }
   ],
   "source": [
    "my_set.add(6)\n",
    "my_set.add(7)\n",
    "print(my_set)"
   ]
  },
  {
   "cell_type": "markdown",
   "id": "81975e01-e032-447c-99d4-2048cd128df7",
   "metadata": {},
   "source": [
    "##### Question 3: Remove an Element\n",
    "##### Remove the element `3` from `my_set`. Use the appropriate method and handle the case where the element may not exist. Print the updated set."
   ]
  },
  {
   "cell_type": "code",
   "execution_count": 3,
   "id": "b9cee2d8-1a96-4be7-8337-66927afb3e0c",
   "metadata": {},
   "outputs": [
    {
     "name": "stdout",
     "output_type": "stream",
     "text": [
      "{1, 2, 4, 5, 6, 7}\n"
     ]
    }
   ],
   "source": [
    "my_set.discard(3)  # Using discard to avoid errors if the element is not present\n",
    "print(my_set)"
   ]
  },
  {
   "cell_type": "markdown",
   "id": "830b71ce-3dcb-4072-a68d-e0df50427b99",
   "metadata": {},
   "source": [
    "##### Question 4: Set Union\n",
    "##### Create another set `other_set` with the elements `4, 5, 6, 7, 8`. Find the union of `my_set` and `other_set`. Print the result."
   ]
  },
  {
   "cell_type": "code",
   "execution_count": 4,
   "id": "21e1b011-1ec2-4ac8-9dbb-b15ba8236721",
   "metadata": {},
   "outputs": [
    {
     "name": "stdout",
     "output_type": "stream",
     "text": [
      "{1, 2, 4, 5, 6, 7, 8}\n"
     ]
    }
   ],
   "source": [
    "other_set = {4, 5, 6, 7, 8}\n",
    "union_set = my_set.union(other_set)\n",
    "print(union_set)"
   ]
  },
  {
   "cell_type": "markdown",
   "id": "f15b2015-10a3-45fc-8129-fab4c1984ab9",
   "metadata": {},
   "source": [
    "##### Question 5: Set Intersection\n",
    "##### Find the intersection of `my_set` and `other_set`. Print the result."
   ]
  },
  {
   "cell_type": "code",
   "execution_count": 5,
   "id": "32ae4823-58dd-48a8-b990-b21cf2733f6d",
   "metadata": {},
   "outputs": [
    {
     "name": "stdout",
     "output_type": "stream",
     "text": [
      "{4, 5, 6, 7}\n"
     ]
    }
   ],
   "source": [
    "intersection_set = my_set.intersection(other_set)\n",
    "print(intersection_set)"
   ]
  },
  {
   "cell_type": "markdown",
   "id": "33a734f9-216b-41ac-8a8d-639cdae769dd",
   "metadata": {},
   "source": [
    "##### Question 6: Set Difference\n",
    "##### Find the difference between `my_set` and `other_set` (elements in `my_set` but not in `other_set`). Print the result."
   ]
  },
  {
   "cell_type": "code",
   "execution_count": 6,
   "id": "8a43040a-21e5-4285-a760-0b231731ae40",
   "metadata": {},
   "outputs": [
    {
     "name": "stdout",
     "output_type": "stream",
     "text": [
      "{1, 2}\n"
     ]
    }
   ],
   "source": [
    "difference_set = my_set.difference(other_set)\n",
    "print(difference_set)"
   ]
  },
  {
   "cell_type": "markdown",
   "id": "c9e0daf0-7064-4d4b-9c81-97d13cfa1e97",
   "metadata": {},
   "source": [
    "##### Question 7: Symmetric Difference\n",
    "##### Find the symmetric difference between `my_set` and `other_set`. Print the result."
   ]
  },
  {
   "cell_type": "code",
   "execution_count": 7,
   "id": "1e474814-4ee3-4cad-8414-18e9633814f5",
   "metadata": {},
   "outputs": [
    {
     "name": "stdout",
     "output_type": "stream",
     "text": [
      "{1, 2, 8}\n"
     ]
    }
   ],
   "source": [
    "symmetric_difference_set = my_set.symmetric_difference(other_set)\n",
    "print(symmetric_difference_set)"
   ]
  },
  {
   "cell_type": "markdown",
   "id": "0919cc87-4424-46e3-a370-e6ae6b8dfa13",
   "metadata": {},
   "source": [
    "##### Question 8: Check Subset and Superset\n",
    "##### Create a new set `small_set` with elements `4, 5`. Check if `small_set` is a subset of `my_set`. Also, check if `my_set` is a superset of `small_set`. Print the results."
   ]
  },
  {
   "cell_type": "code",
   "execution_count": 8,
   "id": "737c6c32-b680-4937-bf71-a63b871ac133",
   "metadata": {},
   "outputs": [
    {
     "name": "stdout",
     "output_type": "stream",
     "text": [
      "Is subset: True\n",
      "Is superset: True\n"
     ]
    }
   ],
   "source": [
    "small_set = {4, 5}\n",
    "is_subset = small_set.issubset(my_set)\n",
    "is_superset = my_set.issuperset(small_set)\n",
    "print(\"Is subset:\", is_subset)\n",
    "print(\"Is superset:\", is_superset)"
   ]
  },
  {
   "cell_type": "markdown",
   "id": "6d4baca3-1906-4a9e-90f8-dd25e87ac083",
   "metadata": {},
   "source": [
    "##### Question 9: Clear a Set\n",
    "##### Clear all elements from `my_set`. Print the result."
   ]
  },
  {
   "cell_type": "code",
   "execution_count": 9,
   "id": "285faeb2-a043-43f4-84e9-3028b1203d8e",
   "metadata": {},
   "outputs": [
    {
     "name": "stdout",
     "output_type": "stream",
     "text": [
      "set()\n"
     ]
    }
   ],
   "source": [
    "my_set.clear()\n",
    "print(my_set)"
   ]
  },
  {
   "cell_type": "markdown",
   "id": "7c189b76-c954-49c5-baf4-a283b22dfedf",
   "metadata": {},
   "source": [
    "##### Question 10: Set Comprehension\n",
    "##### Create a set comprehension that generates a set of squares for numbers from 1 to 10. Assign it to the variable `squares_set` and print it."
   ]
  },
  {
   "cell_type": "code",
   "execution_count": 10,
   "id": "3967bd6d-d7b4-476b-b5f2-82613224a357",
   "metadata": {},
   "outputs": [
    {
     "name": "stdout",
     "output_type": "stream",
     "text": [
      "{64, 1, 4, 36, 100, 9, 16, 49, 81, 25}\n"
     ]
    }
   ],
   "source": [
    "squares_set = {x**2 for x in range(1, 11)}\n",
    "print(squares_set)"
   ]
  },
  {
   "cell_type": "code",
   "execution_count": null,
   "id": "2584c758-2fda-4b4a-adb8-c6164529f352",
   "metadata": {},
   "outputs": [],
   "source": []
  }
 ],
 "metadata": {
  "kernelspec": {
   "display_name": "Python 3 (ipykernel)",
   "language": "python",
   "name": "python3"
  },
  "language_info": {
   "codemirror_mode": {
    "name": "ipython",
    "version": 3
   },
   "file_extension": ".py",
   "mimetype": "text/x-python",
   "name": "python",
   "nbconvert_exporter": "python",
   "pygments_lexer": "ipython3",
   "version": "3.8.10"
  }
 },
 "nbformat": 4,
 "nbformat_minor": 5
}
