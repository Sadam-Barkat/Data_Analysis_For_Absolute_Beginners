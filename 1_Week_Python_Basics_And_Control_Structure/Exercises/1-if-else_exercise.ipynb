{
 "cells": [
  {
   "cell_type": "markdown",
   "metadata": {
    "id": "VZ8nRD_JxQRI"
   },
   "source": [
    "# 6 IF conditions\n",
    "\n",
    "solutions"
   ]
  },
  {
   "cell_type": "markdown",
   "metadata": {
    "id": "K54tsF28xdC5"
   },
   "source": [
    "1. Write a program that can tell you your BMI Category.\n",
    "\n",
    "+ Ask user to enter height\n",
    "+ Ask user to enter weight\n",
    "+ Calculate the BMI(Body Mass Index = wight / height 2) and store it in a variable\n",
    "+ If the BMI is 30 or greater, print “Obesity”\n",
    "+ If the BMI is in between 25 and 29, print “Over Weight”\n",
    "+ If the BMI is in between 18.5 and 25, print “Normal”\n",
    "+ If the BMI is less than 18.5, print “Under Weight”\n"
   ]
  },
  {
   "cell_type": "markdown",
   "metadata": {
    "id": "BNHdGsTJxyKw"
   },
   "source": [
    "### Enter Height and Weight "
   ]
  },
  {
   "cell_type": "code",
   "execution_count": null,
   "metadata": {},
   "outputs": [],
   "source": []
  },
  {
   "cell_type": "markdown",
   "metadata": {
    "id": "UyPPvz-nyIc8"
   },
   "source": [
    "### Calculate BMI\n",
    "\n",
    "BMI = weight / height **2"
   ]
  },
  {
   "cell_type": "code",
   "execution_count": null,
   "metadata": {
    "id": "DbykoyCuyFQm"
   },
   "outputs": [],
   "source": []
  },
  {
   "cell_type": "markdown",
   "metadata": {
    "id": "1gzMfzEoBpK6"
   },
   "source": [
    "2. Using the following list of cities per country,\n",
    "```python\n",
    "India = [\"Mumbai\", \"Bangalore\", \"Chennai\", \"Delhi\"]\n",
    "USA = [\"New York\",\"Chicago\",\"Las Vegas\", “San Francisco”]\n",
    "UK = [“London”, “Manchester”, “Liverpool”, “Nottingham”]\n",
    "```\n",
    "- Write a program that asks the user to enter a city name, and it should tell which country the city belongs to\n",
    "- Write a program that asks user to enter two cities, and it tells you if they both are in the same country or not. For example, if I enter Mumbai and Chennai, it will print \"Both cities are in India\" but if I enter Mumbai and New York it should print \"They don't belong to the same country\"\n"
   ]
  },
  {
   "cell_type": "code",
   "execution_count": null,
   "metadata": {
    "id": "HQlQxVgjA4W1"
   },
   "outputs": [],
   "source": []
  },
  {
   "cell_type": "markdown",
   "metadata": {
    "id": "fUvdM82GHlA4"
   },
   "source": [
    "Thank You,\n",
    "\n",
    "Happy Coding!"
   ]
  },
  {
   "cell_type": "code",
   "execution_count": null,
   "metadata": {
    "id": "ph9BH2ZtHoPy"
   },
   "outputs": [],
   "source": []
  }
 ],
 "metadata": {
  "colab": {
   "collapsed_sections": [],
   "name": "6_If_else.ipynb",
   "provenance": []
  },
  "kernelspec": {
   "display_name": "Python 3 (ipykernel)",
   "language": "python",
   "name": "python3"
  },
  "language_info": {
   "codemirror_mode": {
    "name": "ipython",
    "version": 3
   },
   "file_extension": ".py",
   "mimetype": "text/x-python",
   "name": "python",
   "nbconvert_exporter": "python",
   "pygments_lexer": "ipython3",
   "version": "3.8.10"
  }
 },
 "nbformat": 4,
 "nbformat_minor": 4
}
