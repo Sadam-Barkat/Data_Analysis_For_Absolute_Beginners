{
 "cells": [
  {
   "cell_type": "markdown",
   "id": "72dbdb3b-2c7b-4c2a-adb3-f4b893a092bd",
   "metadata": {},
   "source": [
    "##### Question 1\n",
    "##### Given a tuple `my_tuple = (10, 20, 30, 40, 50)`, extract the first and last elements and store them in a new tuple.\n",
    "##### Expected Output: (10, 50)"
   ]
  },
  {
   "cell_type": "code",
   "execution_count": 6,
   "id": "e1349cee-f8e0-437f-bf78-e1a7b17d087f",
   "metadata": {},
   "outputs": [
    {
     "name": "stdout",
     "output_type": "stream",
     "text": [
      "Question 1 Output: (10, 50)\n"
     ]
    }
   ],
   "source": [
    "my_tuple = (10, 20, 30, 40, 50)\n",
    "result = (my_tuple[0], my_tuple[-1])\n",
    "print(\"Question 1 Output:\", result)"
   ]
  },
  {
   "cell_type": "markdown",
   "id": "11b04918-f023-427b-9cd2-1358497378a3",
   "metadata": {},
   "source": [
    "##### Question 2\n",
    "##### Given two tuples `tuple1 = (1, 2, 3)` and `tuple2 = (4, 5, 6)`, concatenate them into a single tuple and print the result.\n",
    "##### Expected Output: (1, 2, 3, 4, 5, 6)\n"
   ]
  },
  {
   "cell_type": "code",
   "execution_count": 7,
   "id": "8b9a84b8-47a4-444d-90a0-5c6c774821f0",
   "metadata": {},
   "outputs": [
    {
     "name": "stdout",
     "output_type": "stream",
     "text": [
      "Question 2 Output: (1, 2, 3, 4, 5, 6)\n"
     ]
    }
   ],
   "source": [
    "tuple1 = (1, 2, 3)\n",
    "tuple2 = (4, 5, 6)\n",
    "concatenated_tuple = tuple1 + tuple2\n",
    "print(\"Question 2 Output:\", concatenated_tuple)"
   ]
  },
  {
   "cell_type": "markdown",
   "id": "d894be7c-00ca-485f-aea0-6b09990a0083",
   "metadata": {},
   "source": [
    "##### Question 3\n",
    "##### Check if the value 25 exists in the tuple `numbers = (15, 20, 25, 30, 35)`. Print True or False."
   ]
  },
  {
   "cell_type": "code",
   "execution_count": 8,
   "id": "07adbe52-a110-420a-8489-4eb2d153d052",
   "metadata": {},
   "outputs": [
    {
     "name": "stdout",
     "output_type": "stream",
     "text": [
      "Question 3 Output: True\n"
     ]
    }
   ],
   "source": [
    "numbers = (15, 20, 25, 30, 35)\n",
    "exists = 25 in numbers\n",
    "print(\"Question 3 Output:\", exists)"
   ]
  },
  {
   "cell_type": "markdown",
   "id": "b2a726fb-d0db-4a06-8644-fdb88d06b4ff",
   "metadata": {},
   "source": [
    "##### Question 4\n",
    "##### Count how many times the value 5 appears in the tuple `repeated = (5, 10, 5, 20, 5, 30)`."
   ]
  },
  {
   "cell_type": "code",
   "execution_count": 9,
   "id": "c1d7eee6-7a3e-456b-a873-ad7ccfd2ee5f",
   "metadata": {},
   "outputs": [
    {
     "name": "stdout",
     "output_type": "stream",
     "text": [
      "Question 4 Output: 3\n"
     ]
    }
   ],
   "source": [
    "repeated = (5, 10, 5, 20, 5, 30)\n",
    "count = repeated.count(5)\n",
    "print(\"Question 4 Output:\", count)"
   ]
  },
  {
   "cell_type": "markdown",
   "id": "f52fd166-24d4-4195-b341-285f65782180",
   "metadata": {},
   "source": [
    "##### Question 5\n",
    "##### Given a tuple `my_tuple = (10, 20, 30, 40, 50)`, convert it into a list and add the number 60 to the end of it.\n",
    "##### Expected Output: [10, 20, 30, 40, 50, 60]"
   ]
  },
  {
   "cell_type": "code",
   "execution_count": 10,
   "id": "1fcbf45c-03e1-4024-be9f-d27bbe1db1bc",
   "metadata": {},
   "outputs": [
    {
     "name": "stdout",
     "output_type": "stream",
     "text": [
      "Question 5 Output: [10, 20, 30, 40, 50, 60]\n"
     ]
    }
   ],
   "source": [
    "my_tuple = (10, 20, 30, 40, 50)\n",
    "converted_list = list(my_tuple)\n",
    "converted_list.append(60)\n",
    "print(\"Question 5 Output:\", converted_list)"
   ]
  },
  {
   "cell_type": "code",
   "execution_count": null,
   "id": "4699b205-6d3e-435c-9715-1f9374ebd586",
   "metadata": {},
   "outputs": [],
   "source": []
  }
 ],
 "metadata": {
  "kernelspec": {
   "display_name": "Python 3 (ipykernel)",
   "language": "python",
   "name": "python3"
  },
  "language_info": {
   "codemirror_mode": {
    "name": "ipython",
    "version": 3
   },
   "file_extension": ".py",
   "mimetype": "text/x-python",
   "name": "python",
   "nbconvert_exporter": "python",
   "pygments_lexer": "ipython3",
   "version": "3.8.10"
  }
 },
 "nbformat": 4,
 "nbformat_minor": 5
}
