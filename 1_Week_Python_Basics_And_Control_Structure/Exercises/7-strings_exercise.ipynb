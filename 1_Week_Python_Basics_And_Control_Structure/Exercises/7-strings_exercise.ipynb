{
  "cells": [
    {
      "cell_type": "markdown",
      "metadata": {
        "id": "gWcwwt-O0Wsa"
      },
      "source": [
        "# 3. Strings\n",
        "\n",
        "Solution for excercise 3"
      ]
    },
    {
      "cell_type": "markdown",
      "metadata": {
        "id": "CpglSFm80iW4"
      },
      "source": [
        "1. Open the Jupyter notebook and type this code `help(str)` in the code cell and press CTRL+enter. Now see what it returns? Go through these string methods and try to practice them."
      ]
    },
    {
      "cell_type": "code",
      "execution_count": null,
      "metadata": {
        "colab": {
          "base_uri": "https://localhost:8080/"
        },
        "id": "bUPnbvax0TOQ",
        "outputId": "c7a337ac-853f-4011-c10f-a3d4f7c2d867"
      },
      "outputs": [],
      "source": []
    },
    {
      "cell_type": "markdown",
      "metadata": {
        "id": "G_KwO3Ff0t8Z"
      },
      "source": [
        "`help` is used for getting information about any datatype & methods\n",
        "\n",
        "`str` is used for string datatype\n",
        "\n",
        "See, There are a lot of methods to try with string datatypes. lets look at some of them"
      ]
    },
    {
      "cell_type": "markdown",
      "metadata": {
        "id": "rlYCJU881RH6"
      },
      "source": [
        "One method I am seeing\n",
        "\n",
        "```\n",
        "endswith(...)\n",
        " |      S.endswith(suffix[, start[, end]]) -> bool\n",
        " |      \n",
        " |      Return True if S ends with the specified suffix, False otherwise.\n",
        " |      With optional start, test S beginning at that position.\n",
        " |      With optional end, stop comparing S at that position.\n",
        " |      suffix can also be a tuple of strings to try.\n",
        "```\n",
        "This is used to check if a string ends with the given letter or not."
      ]
    },
    {
      "cell_type": "code",
      "execution_count": null,
      "metadata": {
        "id": "9-euUXXM0oh4"
      },
      "outputs": [],
      "source": [
        "# creating a string\n",
        "s = \"Python is Easy.\""
      ]
    },
    {
      "cell_type": "code",
      "execution_count": null,
      "metadata": {
        "colab": {
          "base_uri": "https://localhost:8080/"
        },
        "id": "2IV-6PbA1srB",
        "outputId": "330dea7b-4892-4b52-9b11-4b8905155781"
      },
      "outputs": [
        {
          "data": {
            "text/plain": [
              "True"
            ]
          },
          "execution_count": 3,
          "metadata": {},
          "output_type": "execute_result"
        }
      ],
      "source": [
        "s.endswith('.')"
      ]
    },
    {
      "cell_type": "markdown",
      "metadata": {
        "id": "c8Z2Wgsw1zX_"
      },
      "source": [
        "It did return True becuase our string is ending with a dot(.)\n",
        "\n",
        "Let's see another example"
      ]
    },
    {
      "cell_type": "code",
      "execution_count": null,
      "metadata": {
        "id": "Rzi75T1t1xIc"
      },
      "outputs": [],
      "source": [
        "s2 = \"I love Pandas\""
      ]
    },
    {
      "cell_type": "code",
      "execution_count": null,
      "metadata": {
        "colab": {
          "base_uri": "https://localhost:8080/"
        },
        "id": "dXBAh0tf2KRd",
        "outputId": "150e3104-3c59-4efc-cef2-3f82704ca350"
      },
      "outputs": [
        {
          "data": {
            "text/plain": [
              "False"
            ]
          },
          "execution_count": 5,
          "metadata": {},
          "output_type": "execute_result"
        }
      ],
      "source": [
        "s2.endswith('.')"
      ]
    },
    {
      "cell_type": "markdown",
      "metadata": {
        "id": "XalK0HM42Ovw"
      },
      "source": [
        "This time it printed False because our string is not ending with a dot(.)"
      ]
    },
    {
      "cell_type": "markdown",
      "metadata": {
        "id": "2DCZpvmG2a0v"
      },
      "source": [
        "3. Create two variables to store how many fruits and vegetables you eat in a day. Now Print \"I eat x vegetables and y fruits daily\" where x and y presents vegetables and fruits that you eat every day. Use python f string for this."
      ]
    },
    {
      "cell_type": "code",
      "execution_count": null,
      "metadata": {
        "id": "j-ypO1Iv2NS9"
      },
      "outputs": [],
      "source": []
    },
    {
      "cell_type": "code",
      "execution_count": null,
      "metadata": {
        "colab": {
          "base_uri": "https://localhost:8080/"
        },
        "id": "9RBkZL6b2vpY",
        "outputId": "b36792e7-5325-432c-9eef-c13616a6b734"
      },
      "outputs": [],
      "source": []
    },
    {
      "cell_type": "markdown",
      "metadata": {
        "id": "fKD81Wad3Q3c"
      },
      "source": [
        "3. Create a variable and store the string “The Himalayas are one of the youngest mountain range on the planet.”\n",
        "\n",
        "    i. Print ‘The Himalayas’ using slice operator\\\n",
        "    ii. Print “mountain range” using negative index\\\n",
        "    iii. Print “The Himalayas on the planet” using slice as well as f-string\n"
      ]
    },
    {
      "cell_type": "code",
      "execution_count": null,
      "metadata": {
        "colab": {
          "base_uri": "https://localhost:8080/"
        },
        "id": "cwNT9KOm5LV6",
        "outputId": "5de441e2-59b0-4443-f804-d2dd6fc47108"
      },
      "outputs": [],
      "source": []
    },
    {
      "cell_type": "markdown",
      "metadata": {
        "id": "aQwvPIx55ejG"
      },
      "source": [
        "4. You have created a string variable called string= ”There are 9 planetsplanet in the solar system”. After some time, you have realized that your sentence is incorrect and there are only 8 planets, now correct your sentence by replacing the incorrect words. (Bonus: Try to do it in one line)\n"
      ]
    },
    {
      "cell_type": "code",
      "execution_count": null,
      "metadata": {
        "id": "ysbDg5SY5WNT"
      },
      "outputs": [],
      "source": []
    },
    {
      "cell_type": "markdown",
      "metadata": {
        "id": "WxIN4fm-5ri8"
      },
      "source": [
        "*Correcting the Errors:*\n",
        "\n",
        "There are two errors in the sentence.\\\n",
        "instead of 9 there should be 8 in the sentence\\\n",
        "instead of `planet` it should be `planets` "
      ]
    },
    {
      "cell_type": "code",
      "execution_count": null,
      "metadata": {
        "id": "4OIPkRzB5pta"
      },
      "outputs": [],
      "source": []
    },
    {
      "cell_type": "markdown",
      "metadata": {
        "id": "DztEOFRU6twh"
      },
      "source": [
        "Let's see how we can do this in one line only"
      ]
    },
    {
      "cell_type": "code",
      "execution_count": null,
      "metadata": {
        "id": "J3npAZn368Jr"
      },
      "outputs": [],
      "source": []
    },
    {
      "cell_type": "markdown",
      "metadata": {
        "id": "TK46YOrg7BN9"
      },
      "source": [
        "Thank you,\n",
        "\n",
        "Happy Coding!"
      ]
    }
  ],
  "metadata": {
    "colab": {
      "collapsed_sections": [],
      "name": "3_Strings.ipynb",
      "provenance": []
    },
    "kernelspec": {
      "display_name": "Python 3",
      "name": "python3"
    },
    "language_info": {
      "codemirror_mode": {
        "name": "ipython",
        "version": 3
      },
      "file_extension": ".py",
      "mimetype": "text/x-python",
      "name": "python",
      "nbconvert_exporter": "python",
      "pygments_lexer": "ipython3",
      "version": "3.8.10"
    }
  },
  "nbformat": 4,
  "nbformat_minor": 0
}
