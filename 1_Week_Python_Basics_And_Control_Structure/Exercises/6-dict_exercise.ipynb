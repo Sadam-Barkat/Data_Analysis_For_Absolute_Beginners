{
 "cells": [
  {
   "cell_type": "markdown",
   "id": "f8a17683-f579-422a-84b0-4e91a4099db2",
   "metadata": {},
   "source": [
    "##### Question 1\n",
    "##### You are given a dictionary representing a product with the keys: \"name\", \"category\", \"price\", and \"stock\".\n",
    "##### Assign the values \"Laptop\", \"Electronics\", 750, and 25, respectively. Print the dictionary."
   ]
  },
  {
   "cell_type": "code",
   "execution_count": 1,
   "id": "e6cb7f89-7b5b-448c-a27d-770a09d2f70e",
   "metadata": {},
   "outputs": [],
   "source": [
    "#code here"
   ]
  },
  {
   "cell_type": "markdown",
   "id": "e9e97f29-64f4-4f66-866f-45146b56fc41",
   "metadata": {},
   "source": [
    "##### Question 2\n",
    "##### The price of the product has increased by 50. Update the value of the key \"price\" in the dictionary and print the updated dictionary."
   ]
  },
  {
   "cell_type": "code",
   "execution_count": 2,
   "id": "f42f992e-35bf-4310-b618-111543e3f61d",
   "metadata": {},
   "outputs": [],
   "source": [
    "#code here"
   ]
  },
  {
   "cell_type": "markdown",
   "id": "a5c97bf0-e969-4ce6-94dc-276a9b2536be",
   "metadata": {},
   "source": [
    "##### Question 3\n",
    "##### A new key \"discount\" with a value of 10 (percentage) needs to be added to the dictionary. Update the dictionary and print it."
   ]
  },
  {
   "cell_type": "code",
   "execution_count": 3,
   "id": "18db30c9-f5f3-4a2d-8e3a-a31634d599d5",
   "metadata": {},
   "outputs": [],
   "source": [
    "#code here"
   ]
  },
  {
   "cell_type": "markdown",
   "id": "abcaf915-d653-49b6-8dad-8af634b51cd1",
   "metadata": {},
   "source": [
    "##### Question 4\n",
    "##### Merge the following dictionary {\"brand\": \"Dell\", \"warranty\": \"2 years\"} into the existing dictionary, and print the resulting dictionary."
   ]
  },
  {
   "cell_type": "code",
   "execution_count": 4,
   "id": "7ef5fb4a-fe9f-4e13-b8dd-b06ba03d2499",
   "metadata": {},
   "outputs": [],
   "source": [
    "#code here"
   ]
  },
  {
   "cell_type": "markdown",
   "id": "dd655e7b-6cc6-4ef6-9647-e337869e98e2",
   "metadata": {},
   "source": [
    "##### Question 5\n",
    "##### Remove the \"stock\" key from the dictionary as it is no longer relevant, and print the updated dictionary."
   ]
  },
  {
   "cell_type": "code",
   "execution_count": 5,
   "id": "0b1ae19e-d572-4560-b98a-8b02517a5fe4",
   "metadata": {},
   "outputs": [],
   "source": [
    "#code here"
   ]
  },
  {
   "cell_type": "code",
   "execution_count": null,
   "id": "69daefec-0e1d-409d-b585-24ba07d3022a",
   "metadata": {},
   "outputs": [],
   "source": []
  }
 ],
 "metadata": {
  "kernelspec": {
   "display_name": "Python 3 (ipykernel)",
   "language": "python",
   "name": "python3"
  },
  "language_info": {
   "codemirror_mode": {
    "name": "ipython",
    "version": 3
   },
   "file_extension": ".py",
   "mimetype": "text/x-python",
   "name": "python",
   "nbconvert_exporter": "python",
   "pygments_lexer": "ipython3",
   "version": "3.8.10"
  }
 },
 "nbformat": 4,
 "nbformat_minor": 5
}
