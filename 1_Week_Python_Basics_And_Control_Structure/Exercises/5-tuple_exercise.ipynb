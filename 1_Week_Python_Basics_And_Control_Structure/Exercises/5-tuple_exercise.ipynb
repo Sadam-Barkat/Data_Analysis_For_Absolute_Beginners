{
 "cells": [
  {
   "cell_type": "markdown",
   "id": "30a4fa4c-0254-4e1d-a733-b7763c6212f1",
   "metadata": {},
   "source": [
    "##### Question 1\n",
    "##### Given a tuple `my_tuple = (10, 20, 30, 40, 50)`, extract the first and last elements and store them in a new tuple.\n",
    "##### Expected Output: (10, 50)"
   ]
  },
  {
   "cell_type": "code",
   "execution_count": 3,
   "id": "2b1139ba-188f-4cdb-bcc4-04a9140d2060",
   "metadata": {},
   "outputs": [],
   "source": [
    "#code here"
   ]
  },
  {
   "cell_type": "markdown",
   "id": "136c339a-c23c-4d96-9c8e-095ac1e51437",
   "metadata": {},
   "source": [
    "##### Question 2\n",
    "##### Given two tuples `tuple1 = (1, 2, 3)` and `tuple2 = (4, 5, 6)`, concatenate them into a single tuple and print the result.\n",
    "##### Expected Output: (1, 2, 3, 4, 5, 6)\n"
   ]
  },
  {
   "cell_type": "code",
   "execution_count": 4,
   "id": "54295afc-37ee-4173-97a0-c22a321576d0",
   "metadata": {},
   "outputs": [],
   "source": [
    "#code here"
   ]
  },
  {
   "cell_type": "markdown",
   "id": "9574db95-3882-4e85-b077-d3c7b837b349",
   "metadata": {},
   "source": [
    "##### Question 3\n",
    "##### Check if the value 25 exists in the tuple `numbers = (15, 20, 25, 30, 35)`. Print True or False."
   ]
  },
  {
   "cell_type": "code",
   "execution_count": 5,
   "id": "0f30f9ab-dfc8-4b96-905c-176b0389bef7",
   "metadata": {},
   "outputs": [],
   "source": [
    "#code here"
   ]
  },
  {
   "cell_type": "markdown",
   "id": "340885bd-ffb1-4bd2-9379-a236af9fe602",
   "metadata": {},
   "source": [
    "##### Question 4\n",
    "##### Count how many times the value 5 appears in the tuple `repeated = (5, 10, 5, 20, 5, 30)`."
   ]
  },
  {
   "cell_type": "code",
   "execution_count": 6,
   "id": "4252364a-c815-4c6e-8312-06c9b9b9cd4a",
   "metadata": {},
   "outputs": [],
   "source": [
    "#code here"
   ]
  },
  {
   "cell_type": "markdown",
   "id": "d47338e0-674b-4ad9-8387-e12a2bc2124e",
   "metadata": {},
   "source": [
    "##### Question 5\n",
    "##### Given a tuple `my_tuple = (10, 20, 30, 40, 50)`, convert it into a list and add the number 60 to the end of it.\n",
    "##### Expected Output: [10, 20, 30, 40, 50, 60]"
   ]
  },
  {
   "cell_type": "code",
   "execution_count": 7,
   "id": "64af16ab-24d5-42a1-9447-24ca4afcd74d",
   "metadata": {},
   "outputs": [],
   "source": [
    "#code here"
   ]
  },
  {
   "cell_type": "code",
   "execution_count": null,
   "id": "ddaa8b00-9364-40a6-b461-101b3dd4058e",
   "metadata": {},
   "outputs": [],
   "source": []
  }
 ],
 "metadata": {
  "kernelspec": {
   "display_name": "Python 3 (ipykernel)",
   "language": "python",
   "name": "python3"
  },
  "language_info": {
   "codemirror_mode": {
    "name": "ipython",
    "version": 3
   },
   "file_extension": ".py",
   "mimetype": "text/x-python",
   "name": "python",
   "nbconvert_exporter": "python",
   "pygments_lexer": "ipython3",
   "version": "3.8.10"
  }
 },
 "nbformat": 4,
 "nbformat_minor": 5
}
