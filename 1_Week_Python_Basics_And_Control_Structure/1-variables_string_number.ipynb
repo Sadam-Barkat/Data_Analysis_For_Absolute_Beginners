{
 "cells": [
  {
   "cell_type": "markdown",
   "id": "fe4372a0-f9dc-4693-a2f4-a59de6583399",
   "metadata": {},
   "source": [
    "## 1-variables"
   ]
  },
  {
   "cell_type": "markdown",
   "id": "a1ecd6e2-ad97-43d6-a12a-27910b252582",
   "metadata": {},
   "source": [
    "A variable is a container for storing data values.it allows us to label and reuse data in a program"
   ]
  },
  {
   "cell_type": "code",
   "execution_count": 11,
   "id": "c9455211-d2c1-4358-8df7-da52e2be095c",
   "metadata": {},
   "outputs": [
    {
     "name": "stdout",
     "output_type": "stream",
     "text": [
      "ali\n"
     ]
    }
   ],
   "source": [
    "name = 'ali'\n",
    "print(name)"
   ]
  },
  {
   "cell_type": "code",
   "execution_count": 2,
   "id": "67aa2085-68a6-4be1-a2e3-705833470865",
   "metadata": {},
   "outputs": [
    {
     "name": "stdout",
     "output_type": "stream",
     "text": [
      "24\n"
     ]
    }
   ],
   "source": [
    "age = 24\n",
    "print(age)"
   ]
  },
  {
   "cell_type": "code",
   "execution_count": 3,
   "id": "98ee50bd-eb31-4fcd-83c0-4421b95c8625",
   "metadata": {},
   "outputs": [
    {
     "name": "stdout",
     "output_type": "stream",
     "text": [
      "24\n"
     ]
    }
   ],
   "source": [
    "print(age)"
   ]
  },
  {
   "cell_type": "code",
   "execution_count": 4,
   "id": "6375b851-4d83-46db-98ea-268cf40ed268",
   "metadata": {},
   "outputs": [
    {
     "name": "stdout",
     "output_type": "stream",
     "text": [
      "ali\n"
     ]
    }
   ],
   "source": [
    "print(name)"
   ]
  },
  {
   "cell_type": "code",
   "execution_count": 5,
   "id": "3724b218-df50-42f6-b7d4-129bad8e72ef",
   "metadata": {},
   "outputs": [
    {
     "name": "stdout",
     "output_type": "stream",
     "text": [
      "ahmad\n"
     ]
    }
   ],
   "source": [
    "_name = 'ahmad'\n",
    "print(_name)"
   ]
  },
  {
   "cell_type": "code",
   "execution_count": 6,
   "id": "a66d98c0-8a0c-4314-8816-ba8fc3f7a243",
   "metadata": {},
   "outputs": [
    {
     "ename": "SyntaxError",
     "evalue": "invalid syntax (2784632181.py, line 1)",
     "output_type": "error",
     "traceback": [
      "\u001b[1;36m  Cell \u001b[1;32mIn[6], line 1\u001b[1;36m\u001b[0m\n\u001b[1;33m    2age = 24\u001b[0m\n\u001b[1;37m     ^\u001b[0m\n\u001b[1;31mSyntaxError\u001b[0m\u001b[1;31m:\u001b[0m invalid syntax\n"
     ]
    }
   ],
   "source": [
    "2age = 24\n",
    "print(2age)"
   ]
  },
  {
   "cell_type": "code",
   "execution_count": 7,
   "id": "aa9c379b-01ef-4a86-bb8a-699cb1bce35b",
   "metadata": {},
   "outputs": [
    {
     "name": "stdout",
     "output_type": "stream",
     "text": [
      "ahmad\n",
      "ali\n"
     ]
    }
   ],
   "source": [
    "first_name = 'ahmad'\n",
    "firstname = 'ali'\n",
    "print(first_name)\n",
    "print(firstname)"
   ]
  },
  {
   "cell_type": "code",
   "execution_count": 8,
   "id": "8820f71b-2b33-4cc5-bba3-429042c2e9ba",
   "metadata": {},
   "outputs": [
    {
     "data": {
      "text/plain": [
       "24"
      ]
     },
     "execution_count": 8,
     "metadata": {},
     "output_type": "execute_result"
    }
   ],
   "source": [
    "age"
   ]
  },
  {
   "cell_type": "code",
   "execution_count": 9,
   "id": "282d7f1c-0115-4516-9388-2cb627209fe9",
   "metadata": {},
   "outputs": [
    {
     "data": {
      "text/plain": [
       "24"
      ]
     },
     "execution_count": 9,
     "metadata": {},
     "output_type": "execute_result"
    }
   ],
   "source": [
    "age "
   ]
  },
  {
   "cell_type": "code",
   "execution_count": 15,
   "id": "77d9e01f-02d7-41ba-895e-9da59346867e",
   "metadata": {},
   "outputs": [
    {
     "data": {
      "text/plain": [
       "24"
      ]
     },
     "execution_count": 15,
     "metadata": {},
     "output_type": "execute_result"
    }
   ],
   "source": [
    "name\n",
    "age"
   ]
  },
  {
   "cell_type": "code",
   "execution_count": 17,
   "id": "71f82f07-14dd-4956-a78a-093d8ff31d8f",
   "metadata": {},
   "outputs": [
    {
     "name": "stdout",
     "output_type": "stream",
     "text": [
      "<class 'str'>\n"
     ]
    }
   ],
   "source": [
    "print(type(name))"
   ]
  },
  {
   "cell_type": "code",
   "execution_count": 18,
   "id": "9567b008-4311-482b-a711-598d6168ac58",
   "metadata": {},
   "outputs": [
    {
     "name": "stdout",
     "output_type": "stream",
     "text": [
      "<class 'int'>\n"
     ]
    }
   ],
   "source": [
    "print(type(age))"
   ]
  },
  {
   "cell_type": "code",
   "execution_count": 19,
   "id": "75ba1959-d978-453a-b20b-3ac37b9d642e",
   "metadata": {},
   "outputs": [
    {
     "name": "stdout",
     "output_type": "stream",
     "text": [
      "25\n"
     ]
    }
   ],
   "source": [
    "num1 = 12\n",
    "num2 = 13\n",
    "print(num1 + num2)"
   ]
  },
  {
   "cell_type": "code",
   "execution_count": 21,
   "id": "12637531-f07d-4197-b3c6-2fccf23c4bf4",
   "metadata": {},
   "outputs": [
    {
     "name": "stdout",
     "output_type": "stream",
     "text": [
      "-1\n",
      "156\n"
     ]
    }
   ],
   "source": [
    "print(num1 - num2)\n",
    "print(num1 * num2)"
   ]
  },
  {
   "cell_type": "markdown",
   "id": "cd5d701e-c734-40f3-820c-f5f1ea72cde4",
   "metadata": {},
   "source": [
    "## 2-String"
   ]
  },
  {
   "cell_type": "code",
   "execution_count": 23,
   "id": "941fef3b-7e9a-4ea9-a317-3d9d27ab2cdf",
   "metadata": {},
   "outputs": [
    {
     "name": "stdout",
     "output_type": "stream",
     "text": [
      "hy Hello\n"
     ]
    }
   ],
   "source": [
    "greeting = 'hy'\n",
    "greeting2 = \"Hello\"\n",
    "print(greeting, greeting2)"
   ]
  },
  {
   "cell_type": "code",
   "execution_count": 38,
   "id": "e897acd5-61c6-41cd-8a00-7cf46b921a13",
   "metadata": {},
   "outputs": [
    {
     "name": "stdout",
     "output_type": "stream",
     "text": [
      "Muhmmad Ali\n",
      "Muhmmad Ali\n"
     ]
    }
   ],
   "source": [
    "first_name = \"Muhmmad\"\n",
    "last_name  = \"Ali\"\n",
    "print(first_name, last_name)\n",
    "print(first_name+\" \"+last_name)"
   ]
  },
  {
   "cell_type": "code",
   "execution_count": 39,
   "id": "698ecee4-be96-42b3-8830-4d5b9ed1b698",
   "metadata": {},
   "outputs": [
    {
     "name": "stdout",
     "output_type": "stream",
     "text": [
      "MUHMMAD\n",
      "ali\n"
     ]
    }
   ],
   "source": [
    "print(first_name.upper())\n",
    "print(last_name.lower())"
   ]
  },
  {
   "cell_type": "code",
   "execution_count": 40,
   "id": "1ded00c1-ff12-4493-a424-8c7062e70736",
   "metadata": {},
   "outputs": [
    {
     "name": "stdout",
     "output_type": "stream",
     "text": [
      "Muhmmad\n"
     ]
    }
   ],
   "source": [
    "print(first_name.strip())"
   ]
  },
  {
   "cell_type": "code",
   "execution_count": 42,
   "id": "87100dd0-73ca-4e80-84fe-b56179686576",
   "metadata": {},
   "outputs": [
    {
     "name": "stdout",
     "output_type": "stream",
     "text": [
      "my name is Muhmmad and Ali\n"
     ]
    }
   ],
   "source": [
    "print(f'my name is {first_name} and {last_name}')"
   ]
  },
  {
   "cell_type": "code",
   "execution_count": 43,
   "id": "58680b5d-00df-4918-92a0-e5ab4eeda555",
   "metadata": {},
   "outputs": [
    {
     "name": "stdout",
     "output_type": "stream",
     "text": [
      "6.28\n"
     ]
    }
   ],
   "source": [
    "pi = 3.14\n",
    "print(f'{pi * 2}')"
   ]
  },
  {
   "cell_type": "code",
   "execution_count": 44,
   "id": "5dcffc4f-ad87-43a8-8a0d-b81aa62cec2b",
   "metadata": {},
   "outputs": [
    {
     "name": "stdout",
     "output_type": "stream",
     "text": [
      "Programming\n"
     ]
    }
   ],
   "source": [
    "language = \"Programming language python\"\n",
    "print(language[0:11])"
   ]
  },
  {
   "cell_type": "code",
   "execution_count": 50,
   "id": "a4fad849-67e7-4cbb-a5d2-af36c60d13ff",
   "metadata": {},
   "outputs": [
    {
     "name": "stdout",
     "output_type": "stream",
     "text": [
      "PGMN\n"
     ]
    }
   ],
   "source": [
    "print(language[0:11:3].upper())"
   ]
  },
  {
   "cell_type": "code",
   "execution_count": 81,
   "id": "b71a83f7-dbc8-4a4a-8976-f33e2d25526b",
   "metadata": {},
   "outputs": [
    {
     "name": "stdout",
     "output_type": "stream",
     "text": [
      "nohtyP\n"
     ]
    }
   ],
   "source": [
    "lang = \"Python\"\n",
    "print(lang[::-1]) "
   ]
  },
  {
   "cell_type": "code",
   "execution_count": 56,
   "id": "a3d5b50a-67a8-45b1-bd23-d5332c9f2d0a",
   "metadata": {},
   "outputs": [],
   "source": [
    "# this is a single lilne comment"
   ]
  },
  {
   "cell_type": "code",
   "execution_count": 69,
   "id": "c86e850c-73cf-49b8-981a-273c121384bf",
   "metadata": {},
   "outputs": [
    {
     "data": {
      "text/plain": [
       "'\\nthis is multiline comment '"
      ]
     },
     "execution_count": 69,
     "metadata": {},
     "output_type": "execute_result"
    }
   ],
   "source": [
    "\"\"\"\n",
    "this is multiline comment \n",
    "\"\"\""
   ]
  },
  {
   "cell_type": "code",
   "execution_count": 71,
   "id": "b0795150-5eec-4ec4-9248-3d480070b277",
   "metadata": {},
   "outputs": [
    {
     "name": "stdout",
     "output_type": "stream",
     "text": [
      "This is the comment\n",
      "ok\n"
     ]
    }
   ],
   "source": [
    "print(\"This is the comment\\nok\")"
   ]
  },
  {
   "cell_type": "code",
   "execution_count": 76,
   "id": "678debf0-f8a6-480f-9a1f-63834e251e13",
   "metadata": {},
   "outputs": [
    {
     "name": "stdout",
     "output_type": "stream",
     "text": [
      "23 \n",
      " ali\n"
     ]
    }
   ],
   "source": [
    "age = 23\n",
    "name = 'ali'\n",
    "print(age,\"\\n\",name)"
   ]
  },
  {
   "cell_type": "code",
   "execution_count": null,
   "id": "148048d4-026d-4b26-9fba-dc2192b51627",
   "metadata": {},
   "outputs": [],
   "source": []
  }
 ],
 "metadata": {
  "kernelspec": {
   "display_name": "Python 3 (ipykernel)",
   "language": "python",
   "name": "python3"
  },
  "language_info": {
   "codemirror_mode": {
    "name": "ipython",
    "version": 3
   },
   "file_extension": ".py",
   "mimetype": "text/x-python",
   "name": "python",
   "nbconvert_exporter": "python",
   "pygments_lexer": "ipython3",
   "version": "3.8.10"
  }
 },
 "nbformat": 4,
 "nbformat_minor": 5
}
