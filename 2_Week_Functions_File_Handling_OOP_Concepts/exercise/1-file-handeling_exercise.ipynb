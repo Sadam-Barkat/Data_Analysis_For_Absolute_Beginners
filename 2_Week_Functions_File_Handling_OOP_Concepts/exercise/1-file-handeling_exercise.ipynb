{
 "cells": [
  {
   "cell_type": "markdown",
   "metadata": {
    "id": "iE5ttd3Qh3ZM"
   },
   "source": [
    "# File Handling Exercise\n",
    "\n",
    "Solution"
   ]
  },
  {
   "cell_type": "markdown",
   "metadata": {
    "id": "3NAQCYVOiA0q"
   },
   "source": [
    "### 1. student_marks.csv contains the marks and other details for some students. Write a python program to:\n",
    "- Open the file in read mode\n",
    "- Create dictionary from the given data\n",
    "- Add a new field to the dictionary `total_marks` and store total marks of the students.\n",
    "- Add new field to the dictionary `Average` and store average marks of the students\n",
    "- Sort the data according to the average marks of the students\n",
    "- Create a new file and write this information to the new file\n",
    "\t(https://www.kaggle.com/arunkumar413/student-marks)"
   ]
  },
  {
   "cell_type": "code",
   "execution_count": null,
   "metadata": {
    "id": "tmmX25fjhy4U"
   },
   "outputs": [],
   "source": [
    "# downloading and saving the file\n",
    "# TODO: use the givn link to download the file\n",
    "# TODO: Save the file in the current directory after downloading"
   ]
  },
  {
   "cell_type": "code",
   "execution_count": null,
   "metadata": {
    "id": "F-LG55PmjIqK"
   },
   "outputs": [],
   "source": [
    "# openning the file in read mode\n"
   ]
  },
  {
   "cell_type": "code",
   "execution_count": 1,
   "metadata": {
    "colab": {
     "base_uri": "https://localhost:8080/",
     "height": 35
    },
    "id": "JUGGakOk3lny",
    "outputId": "483cecc8-0e8c-4338-a943-01ef83dc8610"
   },
   "outputs": [],
   "source": [
    "# creating dictionary\n"
   ]
  },
  {
   "cell_type": "code",
   "execution_count": 2,
   "metadata": {
    "colab": {
     "base_uri": "https://localhost:8080/"
    },
    "id": "aaxnoYQL4Uyz",
    "outputId": "e89a9c0b-1be4-444e-fb3a-b6bed25e0eec"
   },
   "outputs": [],
   "source": [
    "# intializing the dictionary\n"
   ]
  },
  {
   "cell_type": "code",
   "execution_count": 3,
   "metadata": {
    "colab": {
     "base_uri": "https://localhost:8080/"
    },
    "id": "Mu62lr4l4zN3",
    "outputId": "702dff7e-d6d8-4c76-d3bb-44c30b78da17"
   },
   "outputs": [],
   "source": [
    "# Adding data to the dictionary\n"
   ]
  },
  {
   "cell_type": "code",
   "execution_count": 4,
   "metadata": {
    "colab": {
     "base_uri": "https://localhost:8080/"
    },
    "id": "cdxhn50W5RHq",
    "outputId": "663bb99b-07dd-4254-ad3a-cf22c7e8f4aa"
   },
   "outputs": [],
   "source": [
    "import pprint\n"
   ]
  },
  {
   "cell_type": "code",
   "execution_count": null,
   "metadata": {
    "colab": {
     "base_uri": "https://localhost:8080/"
    },
    "id": "cePwcNe4-AQW",
    "outputId": "0be76e61-a8ea-4b1d-ff9b-76520d968a5c"
   },
   "outputs": [],
   "source": []
  },
  {
   "cell_type": "code",
   "execution_count": 5,
   "metadata": {
    "colab": {
     "base_uri": "https://localhost:8080/"
    },
    "id": "h4JxgeRG5rLB",
    "outputId": "07b5bd39-2eb9-40e0-d1fb-df1ee1a66e31"
   },
   "outputs": [],
   "source": [
    "# Calculating the total marks\n"
   ]
  },
  {
   "cell_type": "code",
   "execution_count": null,
   "metadata": {
    "id": "LoMJvRNY817B"
   },
   "outputs": [],
   "source": []
  }
 ],
 "metadata": {
  "colab": {
   "collapsed_sections": [],
   "name": "11_file_handeling.ipynb",
   "provenance": []
  },
  "kernelspec": {
   "display_name": "Python 3 (ipykernel)",
   "language": "python",
   "name": "python3"
  },
  "language_info": {
   "codemirror_mode": {
    "name": "ipython",
    "version": 3
   },
   "file_extension": ".py",
   "mimetype": "text/x-python",
   "name": "python",
   "nbconvert_exporter": "python",
   "pygments_lexer": "ipython3",
   "version": "3.8.10"
  }
 },
 "nbformat": 4,
 "nbformat_minor": 4
}
