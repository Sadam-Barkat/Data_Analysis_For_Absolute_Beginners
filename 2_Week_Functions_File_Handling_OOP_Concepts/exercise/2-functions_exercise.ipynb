{
 "cells": [
  {
   "cell_type": "markdown",
   "metadata": {
    "id": "yoyotujl69UP"
   },
   "source": [
    "# 8 Functions\n",
    "\n",
    "Excercise Solution"
   ]
  },
  {
   "cell_type": "markdown",
   "metadata": {
    "id": "rQvL5Nm47FLO"
   },
   "source": [
    "### 1. Write a python function to check if any given number is prime number and odd number?"
   ]
  },
  {
   "cell_type": "code",
   "execution_count": 1,
   "metadata": {
    "id": "2KCF_V_w62IP"
   },
   "outputs": [],
   "source": [
    "# creating the function\n"
   ]
  },
  {
   "cell_type": "code",
   "execution_count": 2,
   "metadata": {
    "colab": {
     "base_uri": "https://localhost:8080/"
    },
    "id": "9RHhmzFh77z-",
    "outputId": "e504203f-fb4c-4c14-e6c7-8c998daa0b8c"
   },
   "outputs": [],
   "source": [
    "# calling the function\n"
   ]
  },
  {
   "cell_type": "code",
   "execution_count": 3,
   "metadata": {
    "colab": {
     "base_uri": "https://localhost:8080/"
    },
    "id": "D4I5aNaP85RI",
    "outputId": "51a47d58-c6e2-46e8-f51b-56f1a5534f12"
   },
   "outputs": [],
   "source": [
    "# checking first 10 numbers\n"
   ]
  },
  {
   "cell_type": "markdown",
   "metadata": {
    "id": "5VDf0umw9PVu"
   },
   "source": [
    "### 2. Write a python function which will take n as input and print the pattern of n rows. If the n is even, then print it flipped.\n",
    "\n",
    "Example: n=3\n",
    "        \n",
    "        *\n",
    "        * *\n",
    "        * * *\n",
    "\n",
    "n=4\n",
    "\n",
    "        * * * *\n",
    "        * * *\n",
    "        * *\n",
    "        *"
   ]
  },
  {
   "cell_type": "code",
   "execution_count": 4,
   "metadata": {
    "id": "iWD0ZKIH9p_M"
   },
   "outputs": [],
   "source": [
    "# creating function for checking even/ odd\n"
   ]
  },
  {
   "cell_type": "markdown",
   "metadata": {
    "id": "ZgDoTYOU_KgH"
   },
   "source": [
    "### 3. Master Yoda speaks a sentence in a different order. Let's say you want to convert a sentence to Yoda’s speak.  Write a function named master_yoda which will take a string as input and return the output after reversing the words of the sentence."
   ]
  },
  {
   "cell_type": "code",
   "execution_count": null,
   "metadata": {
    "id": "HI6cazF__E9v"
   },
   "outputs": [],
   "source": []
  },
  {
   "cell_type": "markdown",
   "metadata": {
    "id": "FTsAnmvuB7FN"
   },
   "source": [
    "### 4. Write a function pay_bill which will take list of expenses, percent commission, and a special offer amount\n",
    "* If you don’t pass percent_comission it should be always 9.8%\n",
    "* The Last argument special_offer_amount is not a required argument, you don’t need to pass is. Make it an optional parameter.\n",
    "* If you want to give a special offer to the user, then you have to pass the third argument special_offer_amount. If user makes the purchase of greater than special_offer_amount, then give him extra  commission of 1.2%.\n",
    "* Calculate the final payable price of the bill and return it from the function.\n"
   ]
  },
  {
   "cell_type": "code",
   "execution_count": null,
   "metadata": {
    "id": "PLFqktuwB02f"
   },
   "outputs": [],
   "source": []
  },
  {
   "cell_type": "code",
   "execution_count": null,
   "metadata": {
    "id": "pvN2aAzuGsDM"
   },
   "outputs": [],
   "source": []
  },
  {
   "cell_type": "markdown",
   "metadata": {
    "id": "YSg0KwBrG2NP"
   },
   "source": [
    "Thank You,\n",
    "\n",
    "Happy Coding!"
   ]
  }
 ],
 "metadata": {
  "colab": {
   "collapsed_sections": [],
   "name": "8_functions.ipynb",
   "provenance": []
  },
  "kernelspec": {
   "display_name": "Python 3 (ipykernel)",
   "language": "python",
   "name": "python3"
  },
  "language_info": {
   "codemirror_mode": {
    "name": "ipython",
    "version": 3
   },
   "file_extension": ".py",
   "mimetype": "text/x-python",
   "name": "python",
   "nbconvert_exporter": "python",
   "pygments_lexer": "ipython3",
   "version": "3.8.10"
  }
 },
 "nbformat": 4,
 "nbformat_minor": 4
}
