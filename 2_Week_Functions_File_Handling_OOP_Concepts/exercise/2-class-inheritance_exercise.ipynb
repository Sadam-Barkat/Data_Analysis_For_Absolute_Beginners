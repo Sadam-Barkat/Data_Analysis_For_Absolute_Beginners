{
 "cells": [
  {
   "cell_type": "markdown",
   "metadata": {
    "id": "UwVxzU19DStn"
   },
   "source": [
    "# Inheritence\n",
    "\n",
    "Exercise Solution"
   ]
  },
  {
   "cell_type": "markdown",
   "metadata": {
    "id": "DMQFbN8RDWJZ"
   },
   "source": [
    "### 1. Create inheritance using MobilePhone as base class and Apple & Samsung as child class\n",
    "The base class should have properties:\n",
    "- ScreenType = Touch Screen\n",
    "- NetworkType = 4G/5G\n",
    "- DualSim = True or False\n",
    "- FrontCamera = (5MP/8MP/12MP/16MP)\n",
    "- rearCamera = (8MP/12MP/16MP/32MP/48MP)\n",
    "- RAM = (2GB/3GB/4GB)\n",
    "- Storage = (16GB/32GB/64GB)\n",
    "\n",
    "Create basic mobile phone functionalities in the classes like:\n",
    "- make_call, recieve_call, take_a_picture, etc.\n",
    "- Use super() constructor for calling parent class’s constructor\n",
    "- Make some objects of Apple class with different properties\n",
    "- Make some objects of Samsung class with different properties\n"
   ]
  },
  {
   "cell_type": "code",
   "execution_count": 1,
   "metadata": {
    "id": "AAul8zeeDQAq"
   },
   "outputs": [],
   "source": [
    "# Creating the base class\n",
    "    "
   ]
  },
  {
   "cell_type": "code",
   "execution_count": 2,
   "metadata": {
    "id": "0Rfaa9LxDZqC"
   },
   "outputs": [],
   "source": [
    "# Let's create Apple Class\n"
   ]
  },
  {
   "cell_type": "code",
   "execution_count": 3,
   "metadata": {
    "id": "n5RGABv9Dbw-"
   },
   "outputs": [],
   "source": [
    "# creating samsung Class\n"
   ]
  },
  {
   "cell_type": "markdown",
   "metadata": {
    "id": "o6DAHer6DibP"
   },
   "source": [
    "Creating some objects"
   ]
  },
  {
   "cell_type": "code",
   "execution_count": 4,
   "metadata": {
    "id": "MhH7-EUHDe8P"
   },
   "outputs": [],
   "source": [
    "# apple phones\n"
   ]
  },
  {
   "cell_type": "code",
   "execution_count": 6,
   "metadata": {
    "id": "cWtaEo1sDk8z"
   },
   "outputs": [],
   "source": [
    "# Samsung Phones\n"
   ]
  },
  {
   "cell_type": "markdown",
   "metadata": {
    "id": "Uv4mXXeED2d_"
   },
   "source": [
    "Thank You,\n",
    "\n",
    "Happy Coding!"
   ]
  }
 ],
 "metadata": {
  "colab": {
   "collapsed_sections": [],
   "name": "13_class_inheritance.ipynb",
   "provenance": []
  },
  "kernelspec": {
   "display_name": "Python 3 (ipykernel)",
   "language": "python",
   "name": "python3"
  },
  "language_info": {
   "codemirror_mode": {
    "name": "ipython",
    "version": 3
   },
   "file_extension": ".py",
   "mimetype": "text/x-python",
   "name": "python",
   "nbconvert_exporter": "python",
   "pygments_lexer": "ipython3",
   "version": "3.8.10"
  }
 },
 "nbformat": 4,
 "nbformat_minor": 4
}
