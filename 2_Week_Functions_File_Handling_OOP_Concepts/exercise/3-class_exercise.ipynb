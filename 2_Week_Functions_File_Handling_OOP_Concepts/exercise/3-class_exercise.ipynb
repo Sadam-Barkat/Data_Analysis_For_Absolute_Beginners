{
 "cells": [
  {
   "cell_type": "markdown",
   "metadata": {
    "id": "jKTtJYRXCNOX"
   },
   "source": [
    "# Classes and Objects\n",
    "\n",
    "Solution\n"
   ]
  },
  {
   "cell_type": "markdown",
   "metadata": {
    "id": "nXsW-WStCSQ8"
   },
   "source": [
    "### 1. Avengers is a Marvel’s American Superheroes team, and you are a fan of avengers, recently you have learned about classes and objects in your python course. Now you want to showcase your programming skills by representing the Avengers team using classes. Create a class called Avenger and create these six superheroes using this class. Super_heroes = [‘Captain America’, ’Iron Man’,  ‘Black Widow’, ‘Hulk’, ‘Thor’, ‘Hawkeye’]\n",
    "\n",
    "### 2. Your Avenger class should have these properties:\n",
    "- Name\n",
    "- Age\n",
    "- Gender\n",
    "- Super Power\n",
    "- Weapon\n",
    "\n",
    "3. Captain America has Super strength, Iron Man has Technology, Black Widow is superhuman, Hulk has Unlimited Strength, Thor has super Energy and Hawkeye has fighting skills as superpowers.\n",
    "4. Weapons: Shield, Armor, Batons, No Weapon for hulk, Mjölnir, Bow and Arrows  \n",
    "5. Create methods to getting the information of each superhero\n",
    "6. Create a method is_leader() which will tell if the superhero is leader or not.\n"
   ]
  },
  {
   "cell_type": "code",
   "execution_count": 7,
   "metadata": {
    "id": "H3Z2qjimCH03"
   },
   "outputs": [],
   "source": [
    "# creating the Avenger class\n",
    "    "
   ]
  },
  {
   "cell_type": "markdown",
   "metadata": {
    "id": "om7DU9ggCXEP"
   },
   "source": [
    "Now, let's create our superheroes team"
   ]
  },
  {
   "cell_type": "code",
   "execution_count": 2,
   "metadata": {
    "id": "jYOj4C0QCWQU"
   },
   "outputs": [],
   "source": [
    "Super_heroes = ['Captain America', 'Iron Man', 'Black Widow', 'Hulk', 'Thor', 'Hawkeye']\n",
    "super_powers = ['Super strength', 'Technology', 'superhuman', 'Unlimited Strength', 'super Energy', 'fighting skills'] # from question\n",
    "weapons = [\"Shield\", \"Armor\", \"Batons\", \"No Weapon\", \"Mjölnir\", \"Bow and Arrows\"]    #from question\n",
    "\n",
    "# let's create a ages and gender list randomly\n",
    "\n",
    "# now create our avengers team using the data"
   ]
  },
  {
   "cell_type": "markdown",
   "metadata": {
    "id": "RM_wE20ECf4e"
   },
   "source": [
    "Let's check by printing a super hero"
   ]
  },
  {
   "cell_type": "code",
   "execution_count": null,
   "metadata": {
    "colab": {
     "base_uri": "https://localhost:8080/"
    },
    "id": "sde3139UCdTg",
    "outputId": "ef390ea7-354e-42cd-f8a3-74be6c9cbf03"
   },
   "outputs": [],
   "source": []
  },
  {
   "cell_type": "code",
   "execution_count": 5,
   "metadata": {
    "colab": {
     "base_uri": "https://localhost:8080/"
    },
    "id": "9joMQerJCp6B",
    "outputId": "438cee82-f435-4b97-e1be-a2357a33acb2"
   },
   "outputs": [],
   "source": [
    "# print information"
   ]
  },
  {
   "cell_type": "code",
   "execution_count": null,
   "metadata": {
    "colab": {
     "base_uri": "https://localhost:8080/"
    },
    "id": "r_xsgaonCr7s",
    "outputId": "6cf7e59b-cf5c-4875-b641-f24328f864db"
   },
   "outputs": [],
   "source": []
  },
  {
   "cell_type": "code",
   "execution_count": 6,
   "metadata": {
    "colab": {
     "base_uri": "https://localhost:8080/"
    },
    "id": "frV-7X58Czg2",
    "outputId": "8ba145bb-b14a-4a65-953f-57e122fceef8"
   },
   "outputs": [],
   "source": [
    "# printing the information of Iron Man\n"
   ]
  },
  {
   "cell_type": "code",
   "execution_count": null,
   "metadata": {
    "id": "hkYE-mE8C4Zt"
   },
   "outputs": [],
   "source": []
  },
  {
   "cell_type": "markdown",
   "metadata": {
    "id": "PmCkBApoC8EW"
   },
   "source": [
    "### You can achieve the above program by using other methods also. Your solution might be different.\n"
   ]
  },
  {
   "cell_type": "markdown",
   "metadata": {
    "id": "qKUECfoXDAyY"
   },
   "source": [
    "Thank You,\n",
    "\n",
    "Happy Learning!"
   ]
  }
 ],
 "metadata": {
  "colab": {
   "collapsed_sections": [],
   "name": "12_class.ipynb",
   "provenance": []
  },
  "kernelspec": {
   "display_name": "Python 3 (ipykernel)",
   "language": "python",
   "name": "python3"
  },
  "language_info": {
   "codemirror_mode": {
    "name": "ipython",
    "version": 3
   },
   "file_extension": ".py",
   "mimetype": "text/x-python",
   "name": "python",
   "nbconvert_exporter": "python",
   "pygments_lexer": "ipython3",
   "version": "3.8.10"
  }
 },
 "nbformat": 4,
 "nbformat_minor": 4
}
